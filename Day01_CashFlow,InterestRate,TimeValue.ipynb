{
  "nbformat": 4,
  "nbformat_minor": 0,
  "metadata": {
    "colab": {
      "provenance": [],
      "authorship_tag": "ABX9TyOrIzuKRcUZzYRF9ZmUW1r7",
      "include_colab_link": true
    },
    "kernelspec": {
      "name": "python3",
      "display_name": "Python 3"
    },
    "language_info": {
      "name": "python"
    }
  },
  "cells": [
    {
      "cell_type": "markdown",
      "metadata": {
        "id": "view-in-github",
        "colab_type": "text"
      },
      "source": [
        "<a href=\"https://colab.research.google.com/github/YooJi0/CodingLessonSunday/blob/main/Day01_CashFlow%2CInterestRate%2CTimeValue.ipynb\" target=\"_parent\"><img src=\"https://colab.research.google.com/assets/colab-badge.svg\" alt=\"Open In Colab\"/></a>"
      ]
    },
    {
      "cell_type": "code",
      "execution_count": null,
      "metadata": {
        "colab": {
          "base_uri": "https://localhost:8080/"
        },
        "id": "A5FLChE7INhN",
        "outputId": "1e6513e0-b9c5-474c-9c93-d1269683a8d5"
      },
      "outputs": [
        {
          "output_type": "stream",
          "name": "stdout",
          "text": [
            "Looking in indexes: https://pypi.org/simple, https://us-python.pkg.dev/colab-wheels/public/simple/\n",
            "Collecting quandl\n",
            "  Downloading Quandl-3.7.0-py2.py3-none-any.whl (26 kB)\n",
            "Requirement already satisfied: more-itertools in /usr/local/lib/python3.8/dist-packages (from quandl) (9.0.0)\n",
            "Requirement already satisfied: six in /usr/local/lib/python3.8/dist-packages (from quandl) (1.15.0)\n",
            "Collecting inflection>=0.3.1\n",
            "  Downloading inflection-0.5.1-py2.py3-none-any.whl (9.5 kB)\n",
            "Requirement already satisfied: pandas>=0.14 in /usr/local/lib/python3.8/dist-packages (from quandl) (1.3.5)\n",
            "Requirement already satisfied: numpy>=1.8 in /usr/local/lib/python3.8/dist-packages (from quandl) (1.21.6)\n",
            "Requirement already satisfied: requests>=2.7.0 in /usr/local/lib/python3.8/dist-packages (from quandl) (2.25.1)\n",
            "Requirement already satisfied: python-dateutil in /usr/local/lib/python3.8/dist-packages (from quandl) (2.8.2)\n",
            "Requirement already satisfied: pytz>=2017.3 in /usr/local/lib/python3.8/dist-packages (from pandas>=0.14->quandl) (2022.7.1)\n",
            "Requirement already satisfied: idna<3,>=2.5 in /usr/local/lib/python3.8/dist-packages (from requests>=2.7.0->quandl) (2.10)\n",
            "Requirement already satisfied: certifi>=2017.4.17 in /usr/local/lib/python3.8/dist-packages (from requests>=2.7.0->quandl) (2022.12.7)\n",
            "Requirement already satisfied: urllib3<1.27,>=1.21.1 in /usr/local/lib/python3.8/dist-packages (from requests>=2.7.0->quandl) (1.24.3)\n",
            "Requirement already satisfied: chardet<5,>=3.0.2 in /usr/local/lib/python3.8/dist-packages (from requests>=2.7.0->quandl) (4.0.0)\n",
            "Installing collected packages: inflection, quandl\n",
            "Successfully installed inflection-0.5.1 quandl-3.7.0\n"
          ]
        }
      ],
      "source": [
        "!pip3 install quandl"
      ]
    },
    {
      "cell_type": "code",
      "source": [
        "# pip과 pip3 차이"
      ],
      "metadata": {
        "id": "Xydl1_VdIrtt"
      },
      "execution_count": null,
      "outputs": []
    },
    {
      "cell_type": "markdown",
      "source": [
        "## **1.2. 현금흐름, 이자율과 시간가치**"
      ],
      "metadata": {
        "id": "aiub-tiweMRN"
      }
    },
    {
      "cell_type": "markdown",
      "source": [
        "### 단리이자 계산"
      ],
      "metadata": {
        "id": "eI0XXd8YOAzT"
      }
    },
    {
      "cell_type": "code",
      "source": [
        "# 원금 10,000원 예금\n",
        "# 이자율 연 5%\n",
        "# 기간 1년 후 인출"
      ],
      "metadata": {
        "id": "uT3WjnWJIpzc"
      },
      "execution_count": null,
      "outputs": []
    },
    {
      "cell_type": "code",
      "source": [
        "# 1년 후 인출액\n",
        "a = 10000\n",
        "r = 0.05\n",
        "n = 1\n",
        "\n",
        "s_simple = a*(1+r*n)\n",
        "s_simple"
      ],
      "metadata": {
        "colab": {
          "base_uri": "https://localhost:8080/"
        },
        "id": "2J4P4UslOR_h",
        "outputId": "36484c5e-a929-4704-9fa2-54013df1f27b"
      },
      "execution_count": null,
      "outputs": [
        {
          "output_type": "execute_result",
          "data": {
            "text/plain": [
              "10500.0"
            ]
          },
          "metadata": {},
          "execution_count": 12
        }
      ]
    },
    {
      "cell_type": "code",
      "source": [
        "# 원금 10,000원 예금\n",
        "# 이자율 연 5%\n",
        "# 기간 1년 후 인출\n",
        "# 월단위"
      ],
      "metadata": {
        "id": "FdkZFoznOcxv"
      },
      "execution_count": null,
      "outputs": []
    },
    {
      "cell_type": "code",
      "source": [
        "# 12개월 후 인출액\n",
        "a = 10000\n",
        "r = 0.05 / 12   # 월 이율\n",
        "n = 12   # 12개월 == 1년\n",
        "\n",
        "s_simple = a*(1+r*n)\n",
        "s_simple"
      ],
      "metadata": {
        "colab": {
          "base_uri": "https://localhost:8080/"
        },
        "id": "1mCUqa0pOty6",
        "outputId": "e60f5fe7-7b91-44f9-83d9-dc5109e28ac1"
      },
      "execution_count": null,
      "outputs": [
        {
          "output_type": "execute_result",
          "data": {
            "text/plain": [
              "10500.0"
            ]
          },
          "metadata": {},
          "execution_count": 14
        }
      ]
    },
    {
      "cell_type": "code",
      "source": [
        "pip install scipy"
      ],
      "metadata": {
        "colab": {
          "base_uri": "https://localhost:8080/"
        },
        "id": "xMijdlo1QJOV",
        "outputId": "f4168903-d53d-4d63-97fd-0ee3a4f0b22c"
      },
      "execution_count": null,
      "outputs": [
        {
          "output_type": "stream",
          "name": "stdout",
          "text": [
            "Looking in indexes: https://pypi.org/simple, https://us-python.pkg.dev/colab-wheels/public/simple/\n",
            "Requirement already satisfied: scipy in /usr/local/lib/python3.8/dist-packages (1.7.3)\n",
            "Requirement already satisfied: numpy<1.23.0,>=1.16.5 in /usr/local/lib/python3.8/dist-packages (from scipy) (1.21.6)\n"
          ]
        }
      ]
    },
    {
      "cell_type": "code",
      "source": [
        "# scipy 라이브러리의 fv함수 이용하여 미래가치 계산\n",
        "import scipy as sp\n",
        "import scipy.fv\n",
        "# from scipy import fv\n",
        "\n",
        "a = 10000  # 원금\n",
        "r = 0.05   # 연이율\n",
        "n = 1      # 기간\n",
        "\n",
        "# 미래가치 계산\n",
        "s_simple = sp.fv(r, n, 0, a)\n",
        "s_simple"
      ],
      "metadata": {
        "colab": {
          "base_uri": "https://localhost:8080/",
          "height": 390
        },
        "id": "XshPLWAUPBar",
        "outputId": "5619c230-73c3-4852-a7f9-4a98b81e82be"
      },
      "execution_count": null,
      "outputs": [
        {
          "output_type": "error",
          "ename": "ModuleNotFoundError",
          "evalue": "ignored",
          "traceback": [
            "\u001b[0;31m---------------------------------------------------------------------------\u001b[0m",
            "\u001b[0;31mModuleNotFoundError\u001b[0m                       Traceback (most recent call last)",
            "\u001b[0;32m<ipython-input-19-743064650984>\u001b[0m in \u001b[0;36m<module>\u001b[0;34m\u001b[0m\n\u001b[1;32m      1\u001b[0m \u001b[0;31m# scipy 라이브러리의 fv함수 이용하여 미래가치 계산\u001b[0m\u001b[0;34m\u001b[0m\u001b[0;34m\u001b[0m\u001b[0;34m\u001b[0m\u001b[0m\n\u001b[1;32m      2\u001b[0m \u001b[0;32mimport\u001b[0m \u001b[0mscipy\u001b[0m \u001b[0;32mas\u001b[0m \u001b[0msp\u001b[0m\u001b[0;34m\u001b[0m\u001b[0;34m\u001b[0m\u001b[0m\n\u001b[0;32m----> 3\u001b[0;31m \u001b[0;32mimport\u001b[0m \u001b[0mscipy\u001b[0m\u001b[0;34m.\u001b[0m\u001b[0mfv\u001b[0m\u001b[0;34m\u001b[0m\u001b[0;34m\u001b[0m\u001b[0m\n\u001b[0m\u001b[1;32m      4\u001b[0m \u001b[0;31m# from scipy import fv\u001b[0m\u001b[0;34m\u001b[0m\u001b[0;34m\u001b[0m\u001b[0;34m\u001b[0m\u001b[0m\n\u001b[1;32m      5\u001b[0m \u001b[0;34m\u001b[0m\u001b[0m\n",
            "\u001b[0;31mModuleNotFoundError\u001b[0m: No module named 'scipy.fv'",
            "",
            "\u001b[0;31m---------------------------------------------------------------------------\u001b[0;32m\nNOTE: If your import is failing due to a missing package, you can\nmanually install dependencies using either !pip or !apt.\n\nTo view examples of installing some common dependencies, click the\n\"Open Examples\" button below.\n\u001b[0;31m---------------------------------------------------------------------------\u001b[0m\n"
          ],
          "errorDetails": {
            "actions": [
              {
                "action": "open_url",
                "actionText": "Open Examples",
                "url": "/notebooks/snippets/importing_libraries.ipynb"
              }
            ]
          }
        }
      ]
    },
    {
      "cell_type": "code",
      "source": [
        "import scipy\n",
        "dir(scipy)"
      ],
      "metadata": {
        "colab": {
          "base_uri": "https://localhost:8080/"
        },
        "id": "MyBJDIb4Pto7",
        "outputId": "989404b6-60db-4578-bef0-61c275a5aa82"
      },
      "execution_count": null,
      "outputs": [
        {
          "output_type": "execute_result",
          "data": {
            "text/plain": [
              "['test']"
            ]
          },
          "metadata": {},
          "execution_count": 23
        }
      ]
    },
    {
      "cell_type": "code",
      "source": [
        "import numpy as np\n",
        "dir(np)"
      ],
      "metadata": {
        "colab": {
          "base_uri": "https://localhost:8080/"
        },
        "id": "K9G492NWTqQx",
        "outputId": "c425b363-366e-4d8c-b102-e891915b1471"
      },
      "execution_count": null,
      "outputs": [
        {
          "output_type": "execute_result",
          "data": {
            "text/plain": [
              "['ALLOW_THREADS',\n",
              " 'AxisError',\n",
              " 'BUFSIZE',\n",
              " 'Bytes0',\n",
              " 'CLIP',\n",
              " 'ComplexWarning',\n",
              " 'DataSource',\n",
              " 'Datetime64',\n",
              " 'ERR_CALL',\n",
              " 'ERR_DEFAULT',\n",
              " 'ERR_IGNORE',\n",
              " 'ERR_LOG',\n",
              " 'ERR_PRINT',\n",
              " 'ERR_RAISE',\n",
              " 'ERR_WARN',\n",
              " 'FLOATING_POINT_SUPPORT',\n",
              " 'FPE_DIVIDEBYZERO',\n",
              " 'FPE_INVALID',\n",
              " 'FPE_OVERFLOW',\n",
              " 'FPE_UNDERFLOW',\n",
              " 'False_',\n",
              " 'Inf',\n",
              " 'Infinity',\n",
              " 'MAXDIMS',\n",
              " 'MAY_SHARE_BOUNDS',\n",
              " 'MAY_SHARE_EXACT',\n",
              " 'MachAr',\n",
              " 'ModuleDeprecationWarning',\n",
              " 'NAN',\n",
              " 'NINF',\n",
              " 'NZERO',\n",
              " 'NaN',\n",
              " 'PINF',\n",
              " 'PZERO',\n",
              " 'RAISE',\n",
              " 'RankWarning',\n",
              " 'SHIFT_DIVIDEBYZERO',\n",
              " 'SHIFT_INVALID',\n",
              " 'SHIFT_OVERFLOW',\n",
              " 'SHIFT_UNDERFLOW',\n",
              " 'ScalarType',\n",
              " 'Str0',\n",
              " 'Tester',\n",
              " 'TooHardError',\n",
              " 'True_',\n",
              " 'UFUNC_BUFSIZE_DEFAULT',\n",
              " 'UFUNC_PYVALS_NAME',\n",
              " 'Uint64',\n",
              " 'VisibleDeprecationWarning',\n",
              " 'WRAP',\n",
              " '_NoValue',\n",
              " '_UFUNC_API',\n",
              " '__NUMPY_SETUP__',\n",
              " '__all__',\n",
              " '__builtins__',\n",
              " '__cached__',\n",
              " '__config__',\n",
              " '__deprecated_attrs__',\n",
              " '__dir__',\n",
              " '__doc__',\n",
              " '__expired_functions__',\n",
              " '__file__',\n",
              " '__getattr__',\n",
              " '__git_version__',\n",
              " '__loader__',\n",
              " '__name__',\n",
              " '__package__',\n",
              " '__path__',\n",
              " '__spec__',\n",
              " '__version__',\n",
              " '_add_newdoc_ufunc',\n",
              " '_distributor_init',\n",
              " '_financial_names',\n",
              " '_globals',\n",
              " '_mat',\n",
              " '_pytesttester',\n",
              " '_version',\n",
              " 'abs',\n",
              " 'absolute',\n",
              " 'add',\n",
              " 'add_docstring',\n",
              " 'add_newdoc',\n",
              " 'add_newdoc_ufunc',\n",
              " 'alen',\n",
              " 'all',\n",
              " 'allclose',\n",
              " 'alltrue',\n",
              " 'amax',\n",
              " 'amin',\n",
              " 'angle',\n",
              " 'any',\n",
              " 'append',\n",
              " 'apply_along_axis',\n",
              " 'apply_over_axes',\n",
              " 'arange',\n",
              " 'arccos',\n",
              " 'arccosh',\n",
              " 'arcsin',\n",
              " 'arcsinh',\n",
              " 'arctan',\n",
              " 'arctan2',\n",
              " 'arctanh',\n",
              " 'argmax',\n",
              " 'argmin',\n",
              " 'argpartition',\n",
              " 'argsort',\n",
              " 'argwhere',\n",
              " 'around',\n",
              " 'array',\n",
              " 'array2string',\n",
              " 'array_equal',\n",
              " 'array_equiv',\n",
              " 'array_repr',\n",
              " 'array_split',\n",
              " 'array_str',\n",
              " 'asanyarray',\n",
              " 'asarray',\n",
              " 'asarray_chkfinite',\n",
              " 'ascontiguousarray',\n",
              " 'asfarray',\n",
              " 'asfortranarray',\n",
              " 'asmatrix',\n",
              " 'asscalar',\n",
              " 'atleast_1d',\n",
              " 'atleast_2d',\n",
              " 'atleast_3d',\n",
              " 'average',\n",
              " 'bartlett',\n",
              " 'base_repr',\n",
              " 'binary_repr',\n",
              " 'bincount',\n",
              " 'bitwise_and',\n",
              " 'bitwise_not',\n",
              " 'bitwise_or',\n",
              " 'bitwise_xor',\n",
              " 'blackman',\n",
              " 'block',\n",
              " 'bmat',\n",
              " 'bool8',\n",
              " 'bool_',\n",
              " 'broadcast',\n",
              " 'broadcast_arrays',\n",
              " 'broadcast_shapes',\n",
              " 'broadcast_to',\n",
              " 'busday_count',\n",
              " 'busday_offset',\n",
              " 'busdaycalendar',\n",
              " 'byte',\n",
              " 'byte_bounds',\n",
              " 'bytes0',\n",
              " 'bytes_',\n",
              " 'c_',\n",
              " 'can_cast',\n",
              " 'cast',\n",
              " 'cbrt',\n",
              " 'cdouble',\n",
              " 'ceil',\n",
              " 'cfloat',\n",
              " 'char',\n",
              " 'character',\n",
              " 'chararray',\n",
              " 'choose',\n",
              " 'clip',\n",
              " 'clongdouble',\n",
              " 'clongfloat',\n",
              " 'column_stack',\n",
              " 'common_type',\n",
              " 'compare_chararrays',\n",
              " 'compat',\n",
              " 'complex128',\n",
              " 'complex256',\n",
              " 'complex64',\n",
              " 'complex_',\n",
              " 'complexfloating',\n",
              " 'compress',\n",
              " 'concatenate',\n",
              " 'conj',\n",
              " 'conjugate',\n",
              " 'convolve',\n",
              " 'copy',\n",
              " 'copysign',\n",
              " 'copyto',\n",
              " 'core',\n",
              " 'corrcoef',\n",
              " 'correlate',\n",
              " 'cos',\n",
              " 'cosh',\n",
              " 'count_nonzero',\n",
              " 'cov',\n",
              " 'cross',\n",
              " 'csingle',\n",
              " 'ctypeslib',\n",
              " 'cumprod',\n",
              " 'cumproduct',\n",
              " 'cumsum',\n",
              " 'datetime64',\n",
              " 'datetime_as_string',\n",
              " 'datetime_data',\n",
              " 'deg2rad',\n",
              " 'degrees',\n",
              " 'delete',\n",
              " 'deprecate',\n",
              " 'deprecate_with_doc',\n",
              " 'diag',\n",
              " 'diag_indices',\n",
              " 'diag_indices_from',\n",
              " 'diagflat',\n",
              " 'diagonal',\n",
              " 'diff',\n",
              " 'digitize',\n",
              " 'disp',\n",
              " 'divide',\n",
              " 'divmod',\n",
              " 'dot',\n",
              " 'double',\n",
              " 'dsplit',\n",
              " 'dstack',\n",
              " 'dtype',\n",
              " 'e',\n",
              " 'ediff1d',\n",
              " 'einsum',\n",
              " 'einsum_path',\n",
              " 'emath',\n",
              " 'empty',\n",
              " 'empty_like',\n",
              " 'equal',\n",
              " 'errstate',\n",
              " 'euler_gamma',\n",
              " 'exp',\n",
              " 'exp2',\n",
              " 'expand_dims',\n",
              " 'expm1',\n",
              " 'expm1x',\n",
              " 'extract',\n",
              " 'eye',\n",
              " 'fabs',\n",
              " 'fastCopyAndTranspose',\n",
              " 'fft',\n",
              " 'fill_diagonal',\n",
              " 'find_common_type',\n",
              " 'finfo',\n",
              " 'fix',\n",
              " 'flatiter',\n",
              " 'flatnonzero',\n",
              " 'flexible',\n",
              " 'flip',\n",
              " 'fliplr',\n",
              " 'flipud',\n",
              " 'float128',\n",
              " 'float16',\n",
              " 'float32',\n",
              " 'float64',\n",
              " 'float_',\n",
              " 'float_power',\n",
              " 'floating',\n",
              " 'floor',\n",
              " 'floor_divide',\n",
              " 'fmax',\n",
              " 'fmin',\n",
              " 'fmod',\n",
              " 'format_float_positional',\n",
              " 'format_float_scientific',\n",
              " 'format_parser',\n",
              " 'frexp',\n",
              " 'frombuffer',\n",
              " 'fromfile',\n",
              " 'fromfunction',\n",
              " 'fromiter',\n",
              " 'frompyfunc',\n",
              " 'fromregex',\n",
              " 'fromstring',\n",
              " 'full',\n",
              " 'full_like',\n",
              " 'gcd',\n",
              " 'generic',\n",
              " 'genfromtxt',\n",
              " 'geomspace',\n",
              " 'get_array_wrap',\n",
              " 'get_include',\n",
              " 'get_printoptions',\n",
              " 'getbufsize',\n",
              " 'geterr',\n",
              " 'geterrcall',\n",
              " 'geterrobj',\n",
              " 'gradient',\n",
              " 'greater',\n",
              " 'greater_equal',\n",
              " 'half',\n",
              " 'hamming',\n",
              " 'hanning',\n",
              " 'heaviside',\n",
              " 'histogram',\n",
              " 'histogram2d',\n",
              " 'histogram_bin_edges',\n",
              " 'histogramdd',\n",
              " 'hsplit',\n",
              " 'hstack',\n",
              " 'hypot',\n",
              " 'i0',\n",
              " 'identity',\n",
              " 'iinfo',\n",
              " 'imag',\n",
              " 'in1d',\n",
              " 'index_exp',\n",
              " 'indices',\n",
              " 'inexact',\n",
              " 'inf',\n",
              " 'info',\n",
              " 'infty',\n",
              " 'inner',\n",
              " 'insert',\n",
              " 'int0',\n",
              " 'int16',\n",
              " 'int32',\n",
              " 'int64',\n",
              " 'int8',\n",
              " 'int_',\n",
              " 'intc',\n",
              " 'integer',\n",
              " 'interp',\n",
              " 'intersect1d',\n",
              " 'intp',\n",
              " 'invert',\n",
              " 'is_busday',\n",
              " 'isclose',\n",
              " 'iscomplex',\n",
              " 'iscomplexobj',\n",
              " 'isfinite',\n",
              " 'isfortran',\n",
              " 'isin',\n",
              " 'isinf',\n",
              " 'isnan',\n",
              " 'isnat',\n",
              " 'isneginf',\n",
              " 'isposinf',\n",
              " 'isreal',\n",
              " 'isrealobj',\n",
              " 'isscalar',\n",
              " 'issctype',\n",
              " 'issubclass_',\n",
              " 'issubdtype',\n",
              " 'issubsctype',\n",
              " 'iterable',\n",
              " 'ix_',\n",
              " 'kaiser',\n",
              " 'kernel_version',\n",
              " 'kron',\n",
              " 'lcm',\n",
              " 'ldexp',\n",
              " 'left_shift',\n",
              " 'less',\n",
              " 'less_equal',\n",
              " 'lexsort',\n",
              " 'lib',\n",
              " 'linalg',\n",
              " 'linspace',\n",
              " 'little_endian',\n",
              " 'load',\n",
              " 'loads',\n",
              " 'loadtxt',\n",
              " 'log',\n",
              " 'log10',\n",
              " 'log1p',\n",
              " 'log2',\n",
              " 'logaddexp',\n",
              " 'logaddexp2',\n",
              " 'logical_and',\n",
              " 'logical_not',\n",
              " 'logical_or',\n",
              " 'logical_xor',\n",
              " 'logspace',\n",
              " 'longcomplex',\n",
              " 'longdouble',\n",
              " 'longfloat',\n",
              " 'longlong',\n",
              " 'lookfor',\n",
              " 'ma',\n",
              " 'mafromtxt',\n",
              " 'mask_indices',\n",
              " 'mat',\n",
              " 'math',\n",
              " 'matmul',\n",
              " 'matrix',\n",
              " 'matrixlib',\n",
              " 'max',\n",
              " 'maximum',\n",
              " 'maximum_sctype',\n",
              " 'may_share_memory',\n",
              " 'mean',\n",
              " 'median',\n",
              " 'memmap',\n",
              " 'meshgrid',\n",
              " 'mgrid',\n",
              " 'min',\n",
              " 'min_scalar_type',\n",
              " 'minimum',\n",
              " 'mintypecode',\n",
              " 'mod',\n",
              " 'modf',\n",
              " 'moveaxis',\n",
              " 'msort',\n",
              " 'multiply',\n",
              " 'nan',\n",
              " 'nan_to_num',\n",
              " 'nanargmax',\n",
              " 'nanargmin',\n",
              " 'nancumprod',\n",
              " 'nancumsum',\n",
              " 'nanmax',\n",
              " 'nanmean',\n",
              " 'nanmedian',\n",
              " 'nanmin',\n",
              " 'nanpercentile',\n",
              " 'nanprod',\n",
              " 'nanquantile',\n",
              " 'nanstd',\n",
              " 'nansum',\n",
              " 'nanvar',\n",
              " 'nbytes',\n",
              " 'ndarray',\n",
              " 'ndenumerate',\n",
              " 'ndfromtxt',\n",
              " 'ndim',\n",
              " 'ndindex',\n",
              " 'nditer',\n",
              " 'negative',\n",
              " 'nested_iters',\n",
              " 'newaxis',\n",
              " 'nextafter',\n",
              " 'nonzero',\n",
              " 'not_equal',\n",
              " 'numarray',\n",
              " 'number',\n",
              " 'obj2sctype',\n",
              " 'object0',\n",
              " 'object_',\n",
              " 'ogrid',\n",
              " 'oldnumeric',\n",
              " 'ones',\n",
              " 'ones_like',\n",
              " 'os',\n",
              " 'outer',\n",
              " 'packbits',\n",
              " 'pad',\n",
              " 'partition',\n",
              " 'percentile',\n",
              " 'pi',\n",
              " 'piecewise',\n",
              " 'place',\n",
              " 'poly',\n",
              " 'poly1d',\n",
              " 'polyadd',\n",
              " 'polyder',\n",
              " 'polydiv',\n",
              " 'polyfit',\n",
              " 'polyint',\n",
              " 'polymul',\n",
              " 'polynomial',\n",
              " 'polysub',\n",
              " 'polyval',\n",
              " 'positive',\n",
              " 'power',\n",
              " 'printoptions',\n",
              " 'prod',\n",
              " 'product',\n",
              " 'promote_types',\n",
              " 'ptp',\n",
              " 'put',\n",
              " 'put_along_axis',\n",
              " 'putmask',\n",
              " 'quantile',\n",
              " 'r_',\n",
              " 'rad2deg',\n",
              " 'radians',\n",
              " 'random',\n",
              " 'ravel',\n",
              " 'ravel_multi_index',\n",
              " 'real',\n",
              " 'real_if_close',\n",
              " 'rec',\n",
              " 'recarray',\n",
              " 'recfromcsv',\n",
              " 'recfromtxt',\n",
              " 'reciprocal',\n",
              " 'record',\n",
              " 'remainder',\n",
              " 'repeat',\n",
              " 'require',\n",
              " 'reshape',\n",
              " 'resize',\n",
              " 'result_type',\n",
              " 'right_shift',\n",
              " 'rint',\n",
              " 'roll',\n",
              " 'rollaxis',\n",
              " 'roots',\n",
              " 'rot90',\n",
              " 'round',\n",
              " 'round_',\n",
              " 'row_stack',\n",
              " 's_',\n",
              " 'safe_eval',\n",
              " 'save',\n",
              " 'savetxt',\n",
              " 'savez',\n",
              " 'savez_compressed',\n",
              " 'sctype2char',\n",
              " 'sctypeDict',\n",
              " 'sctypes',\n",
              " 'searchsorted',\n",
              " 'select',\n",
              " 'set_numeric_ops',\n",
              " 'set_printoptions',\n",
              " 'set_string_function',\n",
              " 'setbufsize',\n",
              " 'setdiff1d',\n",
              " 'seterr',\n",
              " 'seterrcall',\n",
              " 'seterrobj',\n",
              " 'setxor1d',\n",
              " 'shape',\n",
              " 'shares_memory',\n",
              " 'short',\n",
              " 'show_config',\n",
              " 'sign',\n",
              " 'signbit',\n",
              " 'signedinteger',\n",
              " 'sin',\n",
              " 'sinc',\n",
              " 'single',\n",
              " 'singlecomplex',\n",
              " 'sinh',\n",
              " 'size',\n",
              " 'sometrue',\n",
              " 'sort',\n",
              " 'sort_complex',\n",
              " 'source',\n",
              " 'spacing',\n",
              " 'split',\n",
              " 'sqrt',\n",
              " 'square',\n",
              " 'squeeze',\n",
              " 'stack',\n",
              " 'std',\n",
              " 'str0',\n",
              " 'str_',\n",
              " 'string_',\n",
              " 'subtract',\n",
              " 'sum',\n",
              " 'swapaxes',\n",
              " 'sys',\n",
              " 'take',\n",
              " 'take_along_axis',\n",
              " 'tan',\n",
              " 'tanh',\n",
              " 'tensordot',\n",
              " 'test',\n",
              " 'testing',\n",
              " 'tile',\n",
              " 'timedelta64',\n",
              " 'trace',\n",
              " 'tracemalloc_domain',\n",
              " 'transpose',\n",
              " 'trapz',\n",
              " 'tri',\n",
              " 'tril',\n",
              " 'tril_indices',\n",
              " 'tril_indices_from',\n",
              " 'trim_zeros',\n",
              " 'triu',\n",
              " 'triu_indices',\n",
              " 'triu_indices_from',\n",
              " 'true_divide',\n",
              " 'trunc',\n",
              " 'typecodes',\n",
              " 'typename',\n",
              " 'ubyte',\n",
              " 'ufunc',\n",
              " 'uint',\n",
              " 'uint0',\n",
              " 'uint16',\n",
              " 'uint32',\n",
              " 'uint64',\n",
              " 'uint8',\n",
              " 'uintc',\n",
              " 'uintp',\n",
              " 'ulonglong',\n",
              " 'unicode_',\n",
              " 'union1d',\n",
              " 'unique',\n",
              " 'unpackbits',\n",
              " 'unravel_index',\n",
              " 'unsignedinteger',\n",
              " 'unwrap',\n",
              " 'use_hugepage',\n",
              " 'ushort',\n",
              " 'vander',\n",
              " 'var',\n",
              " 'vdot',\n",
              " 'vectorize',\n",
              " 'version',\n",
              " 'void',\n",
              " 'void0',\n",
              " 'vsplit',\n",
              " 'vstack',\n",
              " 'warnings',\n",
              " 'where',\n",
              " 'who',\n",
              " 'zeros',\n",
              " 'zeros_like']"
            ]
          },
          "metadata": {},
          "execution_count": 27
        }
      ]
    },
    {
      "cell_type": "code",
      "source": [
        "np.pv(12,2,1)\n",
        "# RuntimeError: In accordance with NEP 32, the function pv was removed from NumPy version 1.20.  A replacement for this function is available in the numpy_financial library:"
      ],
      "metadata": {
        "colab": {
          "base_uri": "https://localhost:8080/",
          "height": 392
        },
        "id": "UgnLNPvQUHoq",
        "outputId": "b814ae55-ae74-4a7c-f3d4-d7b41d07bd63"
      },
      "execution_count": null,
      "outputs": [
        {
          "output_type": "stream",
          "name": "stderr",
          "text": [
            "<ipython-input-28-45a82e194d05>:1: DeprecationWarning: In accordance with NEP 32, the function pv was removed from NumPy version 1.20.  A replacement for this function is available in the numpy_financial library: https://pypi.org/project/numpy-financial\n",
            "  np.pv(12,2,1)\n"
          ]
        },
        {
          "output_type": "error",
          "ename": "RuntimeError",
          "evalue": "ignored",
          "traceback": [
            "\u001b[0;31m---------------------------------------------------------------------------\u001b[0m",
            "\u001b[0;31mRuntimeError\u001b[0m                              Traceback (most recent call last)",
            "\u001b[0;32m<ipython-input-28-45a82e194d05>\u001b[0m in \u001b[0;36m<module>\u001b[0;34m\u001b[0m\n\u001b[0;32m----> 1\u001b[0;31m \u001b[0mnp\u001b[0m\u001b[0;34m.\u001b[0m\u001b[0mpv\u001b[0m\u001b[0;34m(\u001b[0m\u001b[0;36m12\u001b[0m\u001b[0;34m,\u001b[0m\u001b[0;36m2\u001b[0m\u001b[0;34m,\u001b[0m\u001b[0;36m1\u001b[0m\u001b[0;34m)\u001b[0m\u001b[0;34m\u001b[0m\u001b[0;34m\u001b[0m\u001b[0m\n\u001b[0m",
            "\u001b[0;32m/usr/local/lib/python3.8/dist-packages/numpy/__init__.py\u001b[0m in \u001b[0;36m_expired\u001b[0;34m(*args, **kwds)\u001b[0m\n\u001b[1;32m    285\u001b[0m \u001b[0;34m\u001b[0m\u001b[0m\n\u001b[1;32m    286\u001b[0m                 \u001b[0;32mdef\u001b[0m \u001b[0m_expired\u001b[0m\u001b[0;34m(\u001b[0m\u001b[0;34m*\u001b[0m\u001b[0margs\u001b[0m\u001b[0;34m,\u001b[0m \u001b[0;34m**\u001b[0m\u001b[0mkwds\u001b[0m\u001b[0;34m)\u001b[0m\u001b[0;34m:\u001b[0m\u001b[0;34m\u001b[0m\u001b[0;34m\u001b[0m\u001b[0m\n\u001b[0;32m--> 287\u001b[0;31m                     \u001b[0;32mraise\u001b[0m \u001b[0mRuntimeError\u001b[0m\u001b[0;34m(\u001b[0m\u001b[0mmsg\u001b[0m\u001b[0;34m)\u001b[0m\u001b[0;34m\u001b[0m\u001b[0;34m\u001b[0m\u001b[0m\n\u001b[0m\u001b[1;32m    288\u001b[0m \u001b[0;34m\u001b[0m\u001b[0m\n\u001b[1;32m    289\u001b[0m                 \u001b[0;32mreturn\u001b[0m \u001b[0m_expired\u001b[0m\u001b[0;34m\u001b[0m\u001b[0;34m\u001b[0m\u001b[0m\n",
            "\u001b[0;31mRuntimeError\u001b[0m: In accordance with NEP 32, the function pv was removed from NumPy version 1.20.  A replacement for this function is available in the numpy_financial library: https://pypi.org/project/numpy-financial"
          ]
        }
      ]
    },
    {
      "cell_type": "code",
      "source": [
        "pip install numpy_financial"
      ],
      "metadata": {
        "colab": {
          "base_uri": "https://localhost:8080/"
        },
        "id": "8yQVwyojUVaJ",
        "outputId": "0188748a-4c1b-420d-bd06-37c3e7f8c763"
      },
      "execution_count": null,
      "outputs": [
        {
          "output_type": "stream",
          "name": "stdout",
          "text": [
            "Looking in indexes: https://pypi.org/simple, https://us-python.pkg.dev/colab-wheels/public/simple/\n",
            "Collecting numpy_financial\n",
            "  Downloading numpy_financial-1.0.0-py3-none-any.whl (14 kB)\n",
            "Requirement already satisfied: numpy>=1.15 in /usr/local/lib/python3.8/dist-packages (from numpy_financial) (1.21.6)\n",
            "Installing collected packages: numpy_financial\n",
            "Successfully installed numpy_financial-1.0.0\n"
          ]
        }
      ]
    },
    {
      "cell_type": "code",
      "source": [
        "import numpy_financial\n",
        "dir(numpy_financial)"
      ],
      "metadata": {
        "id": "dUZD3NqlURCx",
        "colab": {
          "base_uri": "https://localhost:8080/"
        },
        "outputId": "8047f9e4-ff28-42ff-c786-d8d61c461cd0"
      },
      "execution_count": null,
      "outputs": [
        {
          "output_type": "execute_result",
          "data": {
            "text/plain": [
              "['__builtins__',\n",
              " '__cached__',\n",
              " '__doc__',\n",
              " '__file__',\n",
              " '__loader__',\n",
              " '__name__',\n",
              " '__package__',\n",
              " '__path__',\n",
              " '__spec__',\n",
              " '__version__',\n",
              " '_financial',\n",
              " 'fv',\n",
              " 'ipmt',\n",
              " 'irr',\n",
              " 'mirr',\n",
              " 'nper',\n",
              " 'npv',\n",
              " 'pmt',\n",
              " 'ppmt',\n",
              " 'pv',\n",
              " 'rate']"
            ]
          },
          "metadata": {},
          "execution_count": 34
        }
      ]
    },
    {
      "cell_type": "code",
      "source": [
        "# fv(rate, nper, pmt, pv, when = 'end')\n",
        "    # 이율, 기간, 매기간 납입액(유출(-), 유입(+), 없으면 0), 현재가치(유출(-), 유입(+)), 납입시점\n",
        "    # when = 'end' ; 0 --> 기'말'\n",
        "    # when = 'begin' ; 1 --> 기'초'"
      ],
      "metadata": {
        "id": "qz85isiVV-ta"
      },
      "execution_count": null,
      "outputs": []
    },
    {
      "cell_type": "code",
      "source": [
        "help(numpy_financial.fv)"
      ],
      "metadata": {
        "colab": {
          "base_uri": "https://localhost:8080/"
        },
        "id": "Osw_rzdiVyIc",
        "outputId": "e7f23eee-71f0-4757-a9af-7f8a7882a59c"
      },
      "execution_count": null,
      "outputs": [
        {
          "output_type": "stream",
          "name": "stdout",
          "text": [
            "Help on function fv in module numpy_financial._financial:\n",
            "\n",
            "fv(rate, nper, pmt, pv, when='end')\n",
            "    Compute the future value.\n",
            "    \n",
            "    Given:\n",
            "     * a present value, `pv`\n",
            "     * an interest `rate` compounded once per period, of which\n",
            "       there are\n",
            "     * `nper` total\n",
            "     * a (fixed) payment, `pmt`, paid either\n",
            "     * at the beginning (`when` = {'begin', 1}) or the end\n",
            "       (`when` = {'end', 0}) of each period\n",
            "    \n",
            "    Return:\n",
            "       the value at the end of the `nper` periods\n",
            "    \n",
            "    Parameters\n",
            "    ----------\n",
            "    rate : scalar or array_like of shape(M, )\n",
            "        Rate of interest as decimal (not per cent) per period\n",
            "    nper : scalar or array_like of shape(M, )\n",
            "        Number of compounding periods\n",
            "    pmt : scalar or array_like of shape(M, )\n",
            "        Payment\n",
            "    pv : scalar or array_like of shape(M, )\n",
            "        Present value\n",
            "    when : {{'begin', 1}, {'end', 0}}, {string, int}, optional\n",
            "        When payments are due ('begin' (1) or 'end' (0)).\n",
            "        Defaults to {'end', 0}.\n",
            "    \n",
            "    Returns\n",
            "    -------\n",
            "    out : ndarray\n",
            "        Future values.  If all input is scalar, returns a scalar float.  If\n",
            "        any input is array_like, returns future values for each input element.\n",
            "        If multiple inputs are array_like, they all must have the same shape.\n",
            "    \n",
            "    Notes\n",
            "    -----\n",
            "    The future value is computed by solving the equation::\n",
            "    \n",
            "     fv +\n",
            "     pv*(1+rate)**nper +\n",
            "     pmt*(1 + rate*when)/rate*((1 + rate)**nper - 1) == 0\n",
            "    \n",
            "    or, when ``rate == 0``::\n",
            "    \n",
            "     fv + pv + pmt * nper == 0\n",
            "    \n",
            "    References\n",
            "    ----------\n",
            "    .. [WRW] Wheeler, D. A., E. Rathke, and R. Weir (Eds.) (2009, May).\n",
            "       Open Document Format for Office Applications (OpenDocument)v1.2,\n",
            "       Part 2: Recalculated Formula (OpenFormula) Format - Annotated Version,\n",
            "       Pre-Draft 12. Organization for the Advancement of Structured Information\n",
            "       Standards (OASIS). Billerica, MA, USA. [ODT Document].\n",
            "       Available:\n",
            "       http://www.oasis-open.org/committees/documents.php?wg_abbrev=office-formula\n",
            "       OpenDocument-formula-20090508.odt\n",
            "    \n",
            "    Examples\n",
            "    --------\n",
            "    >>> import numpy as np\n",
            "    >>> import numpy_financial as npf\n",
            "    \n",
            "    What is the future value after 10 years of saving $100 now, with\n",
            "    an additional monthly savings of $100.  Assume the interest rate is\n",
            "    5% (annually) compounded monthly?\n",
            "    \n",
            "    >>> npf.fv(0.05/12, 10*12, -100, -100)\n",
            "    15692.928894335748\n",
            "    \n",
            "    By convention, the negative sign represents cash flow out (i.e. money not\n",
            "    available today).  Thus, saving $100 a month at 5% annual interest leads\n",
            "    to $15,692.93 available to spend in 10 years.\n",
            "    \n",
            "    If any input is array_like, returns an array of equal shape.  Let's\n",
            "    compare different interest rates from the example above.\n",
            "    \n",
            "    >>> a = np.array((0.05, 0.06, 0.07))/12\n",
            "    >>> npf.fv(a, 10*12, -100, -100)\n",
            "    array([ 15692.92889434,  16569.87435405,  17509.44688102]) # may vary\n",
            "\n"
          ]
        }
      ]
    },
    {
      "cell_type": "code",
      "source": [
        "# 보완\n",
        "\n",
        "# numpy_finanacial 라이브러리의 fv함수 이용하여 미래가치 계산\n",
        "import numpy_financial as npf\n",
        "\n",
        "a = 1000  # 원금\n",
        "r = 0.05   # 연이율\n",
        "n = 1      # 기간\n",
        "\n",
        "# 미래가치 계산\n",
        "# fv(rate, nper, pmt, pv, when = 'end')\n",
        "# pv 부호 주의\n",
        "s_simple = npf.fv(r, n, 0, -a)\n",
        "s_simple"
      ],
      "metadata": {
        "colab": {
          "base_uri": "https://localhost:8080/"
        },
        "id": "oFm3e5dRRcnP",
        "outputId": "c3de1873-42be-44f5-d6d1-7d0205fc16de"
      },
      "execution_count": null,
      "outputs": [
        {
          "output_type": "execute_result",
          "data": {
            "text/plain": [
              "1050.0"
            ]
          },
          "metadata": {},
          "execution_count": 43
        }
      ]
    },
    {
      "cell_type": "code",
      "source": [
        "# 월 기준\n",
        "\n",
        "a = 1000   # 원금\n",
        "r = 0.05   # 연이율\n",
        "n = 12     # 기간(12개월)\n",
        "\n",
        "# 미래가치 계산\n",
        "s_simple = npf.fv(r/n, n, 0, -a)\n",
        "s_simple"
      ],
      "metadata": {
        "colab": {
          "base_uri": "https://localhost:8080/"
        },
        "id": "CGi4lSgpVPkp",
        "outputId": "c6c2dcc5-6c2d-4773-9238-aece9fde5375"
      },
      "execution_count": null,
      "outputs": [
        {
          "output_type": "execute_result",
          "data": {
            "text/plain": [
              "1051.161897881733"
            ]
          },
          "metadata": {},
          "execution_count": 44
        }
      ]
    },
    {
      "cell_type": "markdown",
      "source": [
        "### 복리이자 계산"
      ],
      "metadata": {
        "id": "qDXCKUAdaKwV"
      }
    },
    {
      "cell_type": "code",
      "source": [
        "# 원금 1,000만원 예금\n",
        "# 이자율 연 5%\n",
        "# 기간 1년 후 인출\n",
        "# 월단위\n",
        "\n",
        "a = 1000 # 원금\n",
        "n = 12   # 개월\n",
        "r = 0.05 # 연이율\n",
        "\n",
        "s_compound = a*((1+(r/n))**n)\n",
        "s_compound"
      ],
      "metadata": {
        "colab": {
          "base_uri": "https://localhost:8080/"
        },
        "id": "p5aBId0qaX3S",
        "outputId": "2416a604-9158-4c5b-870e-6744c5301e4d"
      },
      "execution_count": null,
      "outputs": [
        {
          "output_type": "execute_result",
          "data": {
            "text/plain": [
              "1051.161897881733"
            ]
          },
          "metadata": {},
          "execution_count": 45
        }
      ]
    },
    {
      "cell_type": "markdown",
      "source": [
        "#### 연속복리\n",
        "##### : 복리 횟수를 무한정 늘려놓은 것\n",
        "##### 복리횟수 많을수록 -> 복리효과 증가 -> 수익률 증가\n",
        "##### 일반적인 복리 < 연속복리\n",
        "#### 복리 공식 : 원금 * ((1+이율)**기간)\n",
        "#### 연속복리 공식 : 원금 * (e**이율) \n",
        "##### ;복리횟수 증가할수록 값은 오일러 상수 e에 근접"
      ],
      "metadata": {
        "id": "lg_LVQWsa_FX"
      }
    },
    {
      "cell_type": "code",
      "source": [
        "import math\n",
        "\n",
        "a = 1    # 원금\n",
        "r = 1.0  # 연이율(100%)"
      ],
      "metadata": {
        "id": "m3l8KT9dc_4O"
      },
      "execution_count": null,
      "outputs": []
    },
    {
      "cell_type": "code",
      "source": [
        "# 기간 1인 경우 (1년 복리)\n",
        "n = 1\n",
        "c_compound = a * ((1+r/n)**n)\n",
        "c_compound  # 2.0"
      ],
      "metadata": {
        "colab": {
          "base_uri": "https://localhost:8080/"
        },
        "id": "UN0z_bZ9dKRp",
        "outputId": "4038db5b-d5f1-4951-f814-4fbbb18c3d16"
      },
      "execution_count": null,
      "outputs": [
        {
          "output_type": "execute_result",
          "data": {
            "text/plain": [
              "2.0"
            ]
          },
          "metadata": {},
          "execution_count": 48
        }
      ]
    },
    {
      "cell_type": "code",
      "source": [
        "# 기간 2인 경우 (6개월 복리)\n",
        "n = 2\n",
        "c_compound = a * ((1+r/n)**n)\n",
        "c_compound  # 2.25"
      ],
      "metadata": {
        "colab": {
          "base_uri": "https://localhost:8080/"
        },
        "id": "cpuVJAXGdgSr",
        "outputId": "85cbbdb9-07de-42dd-8f85-47e93852fcae"
      },
      "execution_count": null,
      "outputs": [
        {
          "output_type": "execute_result",
          "data": {
            "text/plain": [
              "2.25"
            ]
          },
          "metadata": {},
          "execution_count": 49
        }
      ]
    },
    {
      "cell_type": "code",
      "source": [
        "# 기간 4인 경우 (분기 복리)\n",
        "n = 4\n",
        "c_compound = a * ((1+r/n)**n)\n",
        "c_compound  # 2.44140625"
      ],
      "metadata": {
        "colab": {
          "base_uri": "https://localhost:8080/"
        },
        "id": "J2redRQTdonm",
        "outputId": "d737a12a-c9bc-4347-d912-ff89d4b12c86"
      },
      "execution_count": null,
      "outputs": [
        {
          "output_type": "execute_result",
          "data": {
            "text/plain": [
              "2.44140625"
            ]
          },
          "metadata": {},
          "execution_count": 50
        }
      ]
    },
    {
      "cell_type": "code",
      "source": [
        "# 기간 12인 경우 (월 복리)\n",
        "n = 12\n",
        "c_compound = a * ((1+r/n)**n)\n",
        "c_compound  # 2.613035290224676"
      ],
      "metadata": {
        "colab": {
          "base_uri": "https://localhost:8080/"
        },
        "id": "4a5qPNBqdrMz",
        "outputId": "67654ad2-220c-4594-9922-a7951773e617"
      },
      "execution_count": null,
      "outputs": [
        {
          "output_type": "execute_result",
          "data": {
            "text/plain": [
              "2.613035290224676"
            ]
          },
          "metadata": {},
          "execution_count": 52
        }
      ]
    },
    {
      "cell_type": "code",
      "source": [
        "# 기간 52인 경우 (매주 복리)\n",
        "n = 52\n",
        "c_compound = a * ((1+r/n)**n)\n",
        "c_compound  # 2.692596954437168"
      ],
      "metadata": {
        "colab": {
          "base_uri": "https://localhost:8080/"
        },
        "id": "e0qxNweldtkj",
        "outputId": "835e11ab-153a-4d14-a9e7-9086267c9ad6"
      },
      "execution_count": null,
      "outputs": [
        {
          "output_type": "execute_result",
          "data": {
            "text/plain": [
              "2.692596954437168"
            ]
          },
          "metadata": {},
          "execution_count": 53
        }
      ]
    },
    {
      "cell_type": "code",
      "source": [
        "# 기간 365인 경우 (매일 복리)\n",
        "n = 365\n",
        "c_compound = a * ((1+r/n)**n)\n",
        "c_compound  # 2.7145674820219727"
      ],
      "metadata": {
        "colab": {
          "base_uri": "https://localhost:8080/"
        },
        "id": "Ti2QmpfKdxXr",
        "outputId": "fd5f3f7a-378f-42e3-a676-0451ad4d4f0a"
      },
      "execution_count": null,
      "outputs": [
        {
          "output_type": "execute_result",
          "data": {
            "text/plain": [
              "2.7145674820219727"
            ]
          },
          "metadata": {},
          "execution_count": 54
        }
      ]
    },
    {
      "cell_type": "code",
      "source": [
        "# 기간 8760인 경우 (매시간 복리)\n",
        "n = 8760\n",
        "c_compound = a * ((1+r/n)**n)\n",
        "c_compound  # 2.7181266916179077"
      ],
      "metadata": {
        "colab": {
          "base_uri": "https://localhost:8080/"
        },
        "id": "S7-YqaSud0La",
        "outputId": "b681a317-41d1-4068-ad2b-edfe2f6dd15d"
      },
      "execution_count": null,
      "outputs": [
        {
          "output_type": "execute_result",
          "data": {
            "text/plain": [
              "2.7181266916179077"
            ]
          },
          "metadata": {},
          "execution_count": 55
        }
      ]
    },
    {
      "cell_type": "code",
      "source": [
        "# 기간 525600인 경우 (매분 복리)\n",
        "n = 525600\n",
        "c_compound = a * ((1+r/n)**n)\n",
        "c_compound  # 2.7182792426663553"
      ],
      "metadata": {
        "colab": {
          "base_uri": "https://localhost:8080/"
        },
        "id": "wODY25REd38A",
        "outputId": "207600a7-b617-4d69-f3dc-c067265caf8a"
      },
      "execution_count": null,
      "outputs": [
        {
          "output_type": "execute_result",
          "data": {
            "text/plain": [
              "2.7182792426663553"
            ]
          },
          "metadata": {},
          "execution_count": 56
        }
      ]
    },
    {
      "cell_type": "code",
      "source": [
        "# 기간 31536000인 경우 (매초 복리)\n",
        "n = 31536000\n",
        "c_compound = a * ((1+r/n)**n)\n",
        "c_compound  # 2.7182817784689974"
      ],
      "metadata": {
        "colab": {
          "base_uri": "https://localhost:8080/"
        },
        "id": "Q8pGE6D1d8lK",
        "outputId": "725d31fd-5a37-4219-9f8c-2c6fb67029f2"
      },
      "execution_count": null,
      "outputs": [
        {
          "output_type": "execute_result",
          "data": {
            "text/plain": [
              "2.7182817784689974"
            ]
          },
          "metadata": {},
          "execution_count": 58
        }
      ]
    },
    {
      "cell_type": "markdown",
      "source": [
        "## **1.3. NPV와 IRR**"
      ],
      "metadata": {
        "id": "5FX1Bsgfd_t3"
      }
    },
    {
      "cell_type": "markdown",
      "source": [
        "### NPV 순현재가치\n",
        "##### 현금흐름의 순가치\n",
        "##### 오늘 돈을 받는 것이 내일 돈을 받는 것보다 가치 높음\n",
        "##### NPV; 미래에 발생할 현금흐름을 현재가치로 계산한 것"
      ],
      "metadata": {
        "id": "H9Q8iReEelKh"
      }
    },
    {
      "cell_type": "code",
      "source": [
        "cashflows = [12000, 15000, 180000, 21000, 26000]  # 향후 현금유입(현금흐름)\n",
        "i = 0   # 햇수\n",
        "r = 0.015  # 이자율\n",
        "npv = -70000   # 최초 투자금액 (현금유출이므로 (-))"
      ],
      "metadata": {
        "id": "Q0AT1Ml9grQ4"
      },
      "execution_count": null,
      "outputs": []
    },
    {
      "cell_type": "code",
      "source": [
        "for c in cashflows:\n",
        "  i += 1 # 햇수 1씩 증가\n",
        "  npv += c/((1+r)**i)   # npv 계산공식\n",
        "npv"
      ],
      "metadata": {
        "colab": {
          "base_uri": "https://localhost:8080/"
        },
        "id": "xHuSOUDxhnHK",
        "outputId": "a83f9df9-fb9e-44e2-a50f-0871fe7d5159"
      },
      "execution_count": null,
      "outputs": [
        {
          "output_type": "execute_result",
          "data": {
            "text/plain": [
              "172440.28249818162"
            ]
          },
          "metadata": {},
          "execution_count": 60
        }
      ]
    },
    {
      "cell_type": "code",
      "source": [
        "# 순현재가치 계산하는 npv함수\n",
        "import numpy_financial as npf\n",
        "npv = npf.npv(r, cashflows)\n",
        "npv"
      ],
      "metadata": {
        "colab": {
          "base_uri": "https://localhost:8080/"
        },
        "id": "SmofTVNfh4Ok",
        "outputId": "92df132f-fdcf-4a51-8bf7-8e742a377b1e"
      },
      "execution_count": null,
      "outputs": [
        {
          "output_type": "execute_result",
          "data": {
            "text/plain": [
              "246076.88673565432"
            ]
          },
          "metadata": {},
          "execution_count": 65
        }
      ]
    },
    {
      "cell_type": "markdown",
      "source": [
        "### IRR 내부수익률\n",
        "#### 투자 수익성 측정지표\n",
        "##### 현재시점의 가치 -> 미래시점의 가치 로 환산 ; 수익률\n",
        "##### 미래시점의 가치 -> 현재시점의 가치 로 환산 ; 할인율\n",
        "##### NPV = 0인 경우의 할인율 : IRR\n",
        "##### => 현금유입과 현금유출의 현재가치를 일치시키면 NPV가 0이 되는데, 이때의 할인율이 IRR\n"
      ],
      "metadata": {
        "id": "xRXY3-RhiQQO"
      }
    },
    {
      "cell_type": "markdown",
      "source": [
        "![image.png](data:image/png;base64,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)"
      ],
      "metadata": {
        "id": "PH-dw76EjGJi"
      }
    },
    {
      "cell_type": "markdown",
      "source": [
        "![image.png](data:image/png;base64,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)"
      ],
      "metadata": {
        "id": "CEWpJm1fl9V8"
      }
    },
    {
      "cell_type": "code",
      "source": [
        "import numpy as np\n",
        "import numpy_financial as npf\n",
        "cashflows = [-70000, 12000, 15000, 180000, 21000, 26000]  # 초기투자금액 & 향후 현금유입(현금흐름)\n",
        "\n",
        "# 내부수익률 계산\n",
        "irr = npf.irr(cashflows)\n",
        "print('내부수익률 IRR : ',np.round(irr, 2))\n",
        "print('---------------------------------------')\n",
        "\n",
        "# 구한 IRR을 npv의 할인율로 사용해 NPV 구하기 (구한 IRR이 정확하다면 NPV=0 임을 확인 가능)\n",
        "npv = npf.npv(irr, cashflows)\n",
        "print('순현재가치 NPV : ', np.round(npv, 2))"
      ],
      "metadata": {
        "colab": {
          "base_uri": "https://localhost:8080/"
        },
        "id": "u0TuE5ZRmBkM",
        "outputId": "7dd594d3-4ef2-47d6-f9ef-8ce37509bf30"
      },
      "execution_count": null,
      "outputs": [
        {
          "output_type": "stream",
          "name": "stdout",
          "text": [
            "내부수익률 IRR :  0.54\n",
            "---------------------------------------\n",
            "순현재가치 NPV :  0.0\n"
          ]
        }
      ]
    }
  ]
}